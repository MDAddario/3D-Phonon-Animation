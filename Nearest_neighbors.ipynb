{
 "cells": [
  {
   "cell_type": "code",
   "execution_count": 1,
   "metadata": {},
   "outputs": [],
   "source": [
    "import numpy as np\n",
    "from numpy.linalg import norm\n",
    "from mpl_toolkits.mplot3d import Axes3D\n",
    "import matplotlib.pyplot as plt"
   ]
  },
  {
   "cell_type": "code",
   "execution_count": 2,
   "metadata": {},
   "outputs": [],
   "source": [
    "# BCC Crystal\n",
    "a_conv = 1\n",
    "a1 = a_conv / 2 * np.array([-1,  1,  1]);\n",
    "a2 = a_conv / 2 * np.array([ 1, -1,  1]);\n",
    "a3 = a_conv / 2 * np.array([ 1,  1, -1]);"
   ]
  },
  {
   "cell_type": "code",
   "execution_count": 3,
   "metadata": {},
   "outputs": [
    {
     "name": "stdout",
     "output_type": "stream",
     "text": [
      "(-1-1-1) -> norm = 0.87\n",
      "(-100) -> norm = 0.87\n",
      "(0-10) -> norm = 0.87\n",
      "(00-1) -> norm = 0.87\n",
      "(001) -> norm = 0.87\n",
      "(010) -> norm = 0.87\n",
      "(100) -> norm = 0.87\n",
      "(111) -> norm = 0.87\n"
     ]
    }
   ],
   "source": [
    "# Shortest lattice vectors\n",
    "for a in range(-1,2):\n",
    "    for b in range(-1,2):\n",
    "        for c in range(-1,2):\n",
    "            \n",
    "            if a == 0 and b == 0 and c == 0:\n",
    "                continue\n",
    "            \n",
    "            vector = a*a1 + b*a2 + c*a3\n",
    "            norma = norm(vector)\n",
    "            if norma < 0.87:\n",
    "                print('({}{}{}) -> norm = {:.2f}'.format(a,b,c,norma))"
   ]
  },
  {
   "cell_type": "code",
   "execution_count": 4,
   "metadata": {},
   "outputs": [],
   "source": [
    "# FCC Crystal\n",
    "a  = 1\n",
    "a1 = a/2*np.array([0, 1, 1]);\n",
    "a2 = a/2*np.array([1, 0, 1]);\n",
    "a3 = a/2*np.array([1, 1, 0]);"
   ]
  },
  {
   "cell_type": "code",
   "execution_count": 5,
   "metadata": {},
   "outputs": [
    {
     "name": "stdout",
     "output_type": "stream",
     "text": [
      "(-100) -> norm = 0.71\n",
      "(-101) -> norm = 0.71\n",
      "(-110) -> norm = 0.71\n",
      "(0-10) -> norm = 0.71\n",
      "(0-11) -> norm = 0.71\n",
      "(00-1) -> norm = 0.71\n",
      "(001) -> norm = 0.71\n",
      "(01-1) -> norm = 0.71\n",
      "(010) -> norm = 0.71\n",
      "(1-10) -> norm = 0.71\n",
      "(10-1) -> norm = 0.71\n",
      "(100) -> norm = 0.71\n"
     ]
    }
   ],
   "source": [
    "# Shortest lattice vectors\n",
    "for a in range(-1,2):\n",
    "    for b in range(-1,2):\n",
    "        for c in range(-1,2):\n",
    "            \n",
    "            if a == 0 and b == 0 and c == 0:\n",
    "                continue\n",
    "            \n",
    "            vector = a*a1 + b*a2 + c*a3\n",
    "            norma = norm(vector)\n",
    "            if norma < 0.71:\n",
    "                print('({}{}{}) -> norm = {:.2f}'.format(a,b,c,norma))"
   ]
  },
  {
   "cell_type": "code",
   "execution_count": 6,
   "metadata": {},
   "outputs": [
    {
     "name": "stdout",
     "output_type": "stream",
     "text": [
      "0.7071067811865476\n",
      "0.7071067811865476\n",
      "0.7071067811865476\n",
      "0.7071067811865476\n",
      "0.7071067811865476\n",
      "0.7071067811865476\n"
     ]
    },
    {
     "data": {
      "image/png": "[encoded data removed]",
      "text/plain": [
       "<Figure size 432x288 with 1 Axes>"
      ]
     },
     "metadata": {
      "needs_background": "light"
     },
     "output_type": "display_data"
    }
   ],
   "source": [
    "# Plot 2d cross section hexagonal lattice\n",
    "fig = plt.figure()\n",
    "ax = fig.gca(projection='3d')\n",
    "\n",
    "def plotter(a,b,c,color='b'):\n",
    "    vector = a*a1 + b*a2 + c*a3\n",
    "    ax.scatter(vector[0], vector[1], vector[2], c=color)\n",
    "    \n",
    "def distance(c1,c2,c3,d1,d2,d3):\n",
    "    v1 = c1*a1 + c2*a2 + c3*a3\n",
    "    v2 = d1*a1 + d2*a2 + d3*a3\n",
    "    print(norm(v1 - v2))\n",
    "\n",
    "vector0 = [ 0, 0, 0]\n",
    "vector1 = [ 1, 0, 0]\n",
    "vector2 = [ 0, 1, 0]\n",
    "vector3 = [-1, 1, 0]\n",
    "vector4 = [-1, 0, 0]\n",
    "vector5 = [ 0,-1, 0]\n",
    "vector6 = [ 1,-1, 0]\n",
    "\n",
    "plotter(*vector0,'k')\n",
    "plotter(*vector1)\n",
    "plotter(*vector2)\n",
    "plotter(*vector3)\n",
    "plotter(*vector4)\n",
    "plotter(*vector5)\n",
    "plotter(*vector6)\n",
    "\n",
    "distance(*vector1, *vector2)\n",
    "distance(*vector2, *vector3)\n",
    "distance(*vector3, *vector4)\n",
    "distance(*vector4, *vector5)\n",
    "distance(*vector5, *vector6)\n",
    "distance(*vector6, *vector1)\n",
    "\n",
    "plt.show()"
   ]
  },
  {
   "cell_type": "code",
   "execution_count": null,
   "metadata": {},
   "outputs": [],
   "source": []
  }
 ],
 "metadata": {
  "kernelspec": {
   "display_name": "Python 3",
   "language": "python",
   "name": "python3"
  },
  "language_info": {
   "codemirror_mode": {
    "name": "ipython",
    "version": 3
   },
   "file_extension": ".py",
   "mimetype": "text/x-python",
   "name": "python",
   "nbconvert_exporter": "python",
   "pygments_lexer": "ipython3",
   "version": "3.7.4"
  }
 },
 "nbformat": 4,
 "nbformat_minor": 4
}
